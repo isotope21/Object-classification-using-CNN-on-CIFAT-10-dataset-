{
  "cells": [
    {
      "cell_type": "markdown",
      "source": [
        "\n",
        "https://www.cs.toronto.edu/~kriz/cifar.html"
      ],
      "metadata": {
        "id": "wClyQIagSnOJ"
      },
      "id": "wClyQIagSnOJ"
    },
    {
      "cell_type": "markdown",
      "id": "5b19c454",
      "metadata": {
        "id": "5b19c454"
      },
      "source": [
        "# Object detection using CNN "
      ]
    },
    {
      "cell_type": "markdown",
      "id": "cbf97d42",
      "metadata": {
        "id": "cbf97d42"
      },
      "source": [
        "#### Problem Statement \n",
        "Indian government has decided to enhance the security in the border areas of China; hence we need to make a model that can detect an object by looking at the image captured by unmanned drone, you will be given a corpus of images that you will use to train the model Current project will include detection of the following 'airplane', 'automobile', 'bird', 'cat', 'deer’,’ dog', 'frog', 'horse', 'ship', 'truck’.\n",
        "\n",
        "#### Expected Outcome\n",
        "Create a model that can detect a given object The various objects are as follows 'airplane', 'automobile', 'bird', 'cat', 'deer’,’ dog', 'frog', 'horse', 'ship', 'truck’.\n"
      ]
    },
    {
      "cell_type": "markdown",
      "source": [
        "## Importing libraries and loading the dataset"
      ],
      "metadata": {
        "id": "kNsJVhikYx1V"
      },
      "id": "kNsJVhikYx1V"
    },
    {
      "cell_type": "code",
      "execution_count": 22,
      "id": "68f980eb",
      "metadata": {
        "id": "68f980eb"
      },
      "outputs": [],
      "source": [
        "import tensorflow as tf\n",
        "from tensorflow.keras import datasets, layers ,models\n",
        "import matplotlib.pyplot as plt\n",
        "import numpy as np \n",
        "from sklearn.metrics import confusion_matrix, classification_report\n",
        "import numpy as np"
      ]
    },
    {
      "cell_type": "code",
      "source": [
        "(X_train, y_train),(X_test, y_test) = datasets.cifar10.load_data()\n",
        "X_train.shape"
      ],
      "metadata": {
        "colab": {
          "base_uri": "https://localhost:8080/"
        },
        "id": "GaAXe3aXUVOu",
        "outputId": "029843f1-2341-4928-b9ef-37bae6267b9c"
      },
      "id": "GaAXe3aXUVOu",
      "execution_count": 2,
      "outputs": [
        {
          "output_type": "stream",
          "name": "stdout",
          "text": [
            "Downloading data from https://www.cs.toronto.edu/~kriz/cifar-10-python.tar.gz\n",
            "170498071/170498071 [==============================] - 6s 0us/step\n"
          ]
        },
        {
          "output_type": "execute_result",
          "data": {
            "text/plain": [
              "(50000, 32, 32, 3)"
            ]
          },
          "metadata": {},
          "execution_count": 2
        }
      ]
    },
    {
      "cell_type": "code",
      "source": [
        "X_test.shape"
      ],
      "metadata": {
        "colab": {
          "base_uri": "https://localhost:8080/"
        },
        "id": "hi6HAk6hUeAL",
        "outputId": "48711816-1edf-447e-d8c2-cb283b8f6d53"
      },
      "id": "hi6HAk6hUeAL",
      "execution_count": 3,
      "outputs": [
        {
          "output_type": "execute_result",
          "data": {
            "text/plain": [
              "(10000, 32, 32, 3)"
            ]
          },
          "metadata": {},
          "execution_count": 3
        }
      ]
    },
    {
      "cell_type": "code",
      "source": [
        "y_train[:5]"
      ],
      "metadata": {
        "colab": {
          "base_uri": "https://localhost:8080/"
        },
        "id": "yoP8Sq6bXr_z",
        "outputId": "34a48fdf-228f-4522-a3ae-d4904a3454f3"
      },
      "id": "yoP8Sq6bXr_z",
      "execution_count": 4,
      "outputs": [
        {
          "output_type": "execute_result",
          "data": {
            "text/plain": [
              "array([[6],\n",
              "       [9],\n",
              "       [9],\n",
              "       [4],\n",
              "       [1]], dtype=uint8)"
            ]
          },
          "metadata": {},
          "execution_count": 4
        }
      ]
    },
    {
      "cell_type": "code",
      "source": [
        "y_train = y_train.reshape(-1)\n",
        "y_train[:5]"
      ],
      "metadata": {
        "colab": {
          "base_uri": "https://localhost:8080/"
        },
        "id": "AEMwIWQDXuzx",
        "outputId": "a7f76bdd-dfd2-4213-ce92-ac92f3a7d36e"
      },
      "id": "AEMwIWQDXuzx",
      "execution_count": 5,
      "outputs": [
        {
          "output_type": "execute_result",
          "data": {
            "text/plain": [
              "array([6, 9, 9, 4, 1], dtype=uint8)"
            ]
          },
          "metadata": {},
          "execution_count": 5
        }
      ]
    },
    {
      "cell_type": "code",
      "source": [
        "classes = ['airplane','automobile','bird','cat','deer','dog','frog','horse','ship','truck']"
      ],
      "metadata": {
        "id": "Qhn31zdeW2yi"
      },
      "id": "Qhn31zdeW2yi",
      "execution_count": 6,
      "outputs": []
    },
    {
      "cell_type": "code",
      "source": [
        "classes[0]"
      ],
      "metadata": {
        "colab": {
          "base_uri": "https://localhost:8080/",
          "height": 35
        },
        "id": "V0oSacqbXQOZ",
        "outputId": "e28de756-b98f-470e-9931-ee43635c5670"
      },
      "id": "V0oSacqbXQOZ",
      "execution_count": 7,
      "outputs": [
        {
          "output_type": "execute_result",
          "data": {
            "text/plain": [
              "'airplane'"
            ],
            "application/vnd.google.colaboratory.intrinsic+json": {
              "type": "string"
            }
          },
          "metadata": {},
          "execution_count": 7
        }
      ]
    },
    {
      "cell_type": "code",
      "source": [
        "def plot_sample (X,y,index):\n",
        "  plt.figure(figsize = (25,2))\n",
        "  plt.imshow(X[index])\n",
        "  plt.xlabel(classes[y[index]])\n",
        "  # plt.axis('off')"
      ],
      "metadata": {
        "id": "DfQMNmUYU7Cm"
      },
      "id": "DfQMNmUYU7Cm",
      "execution_count": 75,
      "outputs": []
    },
    {
      "cell_type": "code",
      "source": [
        "plot_sample(X_train,y_train,0)"
      ],
      "metadata": {
        "id": "KFQdNMPPYYKu",
        "colab": {
          "base_uri": "https://localhost:8080/",
          "height": 140
        },
        "outputId": "51bd17de-07ab-4432-9235-32a8d0366015"
      },
      "id": "KFQdNMPPYYKu",
      "execution_count": 15,
      "outputs": [
        {
          "output_type": "display_data",
          "data": {
            "text/plain": [
              "<Figure size 1800x144 with 1 Axes>"
            ],
            "image/png": "[encoded data removed]"
          },
          "metadata": {
            "needs_background": "light"
          }
        }
      ]
    },
    {
      "cell_type": "code",
      "source": [
        "plot_sample(X_train,y_train,1)\n"
      ],
      "metadata": {
        "id": "Jn1moscNYq-H",
        "colab": {
          "base_uri": "https://localhost:8080/",
          "height": 140
        },
        "outputId": "d863ab60-66b3-49b9-d3f6-ddc8923622cb"
      },
      "id": "Jn1moscNYq-H",
      "execution_count": 16,
      "outputs": [
        {
          "output_type": "display_data",
          "data": {
            "text/plain": [
              "<Figure size 1800x144 with 1 Axes>"
            ],
            "image/png": "[encoded data removed]"
          },
          "metadata": {
            "needs_background": "light"
          }
        }
      ]
    },
    {
      "cell_type": "code",
      "source": [
        "plot_sample(X_train,y_train,3)"
      ],
      "metadata": {
        "id": "V2rg3oJZYmEn",
        "colab": {
          "base_uri": "https://localhost:8080/",
          "height": 140
        },
        "outputId": "c63a4846-d5c4-42a1-8a59-5503d7f85907"
      },
      "id": "V2rg3oJZYmEn",
      "execution_count": 17,
      "outputs": [
        {
          "output_type": "display_data",
          "data": {
            "text/plain": [
              "<Figure size 1800x144 with 1 Axes>"
            ],
            "image/png": "[encoded data removed]"
          },
          "metadata": {
            "needs_background": "light"
          }
        }
      ]
    },
    {
      "cell_type": "markdown",
      "source": [
        "## Data Preprocessing"
      ],
      "metadata": {
        "id": "DclBKPpWZzfZ"
      },
      "id": "DclBKPpWZzfZ"
    },
    {
      "cell_type": "code",
      "source": [
        "# Data Normalization\n",
        "X_train =X_train/255\n",
        "X_test = X_test/255"
      ],
      "metadata": {
        "id": "5SD8YqIBZkrn"
      },
      "id": "5SD8YqIBZkrn",
      "execution_count": 18,
      "outputs": []
    },
    {
      "cell_type": "markdown",
      "source": [
        "## Training using simple ann"
      ],
      "metadata": {
        "id": "SaZEf2HwaSzu"
      },
      "id": "SaZEf2HwaSzu"
    },
    {
      "cell_type": "code",
      "source": [
        "ann = models.Sequential([\n",
        "    layers.Flatten(input_shape =(32,32,3)),\n",
        "    layers.Dense(3000, activation= 'relu'),\n",
        "    layers.Dense(1000, activation= 'relu'),\n",
        "    layers.Dense(10,activation = 'softmax')\n",
        "])\n",
        "\n",
        "ann.compile(optimizer = 'sgd',\n",
        "            loss = 'sparse_categorical_crossentropy',\n",
        "            metrics = ['accuracy'])\n",
        "\n",
        "ann.fit(X_train, y_train, epochs = 5)"
      ],
      "metadata": {
        "id": "8SmiD58saVdX",
        "colab": {
          "base_uri": "https://localhost:8080/"
        },
        "outputId": "b0a6b74d-3556-4ac4-d28c-e33d50b6469a"
      },
      "id": "8SmiD58saVdX",
      "execution_count": 19,
      "outputs": [
        {
          "output_type": "stream",
          "name": "stdout",
          "text": [
            "Epoch 1/5\n",
            "1563/1563 [==============================] - 8s 3ms/step - loss: 1.8147 - accuracy: 0.3530\n",
            "Epoch 2/5\n",
            "1563/1563 [==============================] - 5s 3ms/step - loss: 1.6225 - accuracy: 0.4291\n",
            "Epoch 3/5\n",
            "1563/1563 [==============================] - 5s 3ms/step - loss: 1.5444 - accuracy: 0.4535\n",
            "Epoch 4/5\n",
            "1563/1563 [==============================] - 5s 3ms/step - loss: 1.4840 - accuracy: 0.4743\n",
            "Epoch 5/5\n",
            "1563/1563 [==============================] - 5s 3ms/step - loss: 1.4344 - accuracy: 0.4941\n"
          ]
        },
        {
          "output_type": "execute_result",
          "data": {
            "text/plain": [
              "<keras.callbacks.History at 0x7f1b90072130>"
            ]
          },
          "metadata": {},
          "execution_count": 19
        }
      ]
    },
    {
      "cell_type": "code",
      "source": [
        "ann.evaluate(X_test,y_test)"
      ],
      "metadata": {
        "colab": {
          "base_uri": "https://localhost:8080/"
        },
        "id": "cd9FoCQNfofe",
        "outputId": "f358609d-ae22-40ef-97ae-06a08adea37a"
      },
      "id": "cd9FoCQNfofe",
      "execution_count": 20,
      "outputs": [
        {
          "output_type": "stream",
          "name": "stdout",
          "text": [
            "313/313 [==============================] - 1s 3ms/step - loss: 1.4649 - accuracy: 0.4779\n"
          ]
        },
        {
          "output_type": "execute_result",
          "data": {
            "text/plain": [
              "[1.4648945331573486, 0.4778999984264374]"
            ]
          },
          "metadata": {},
          "execution_count": 20
        }
      ]
    },
    {
      "cell_type": "markdown",
      "source": [
        "accuracy on training sample = 49.41%\n",
        "\n",
        "accuracy on test sample = 47.78%"
      ],
      "metadata": {
        "id": "j7xFr7Rtf39Z"
      },
      "id": "j7xFr7Rtf39Z"
    },
    {
      "cell_type": "code",
      "source": [
        "# printing classification report \n",
        "y_pred = ann.predict(X_test)\n",
        "y_pred_classes = [np.argmax(element) for element in y_pred ]\n",
        "\n",
        "print(\"classification report: \\n\", classification_report(y_test, y_pred_classes))"
      ],
      "metadata": {
        "colab": {
          "base_uri": "https://localhost:8080/"
        },
        "id": "pV3TlhbngCMP",
        "outputId": "4818b5a8-8872-44b1-92b9-3e2893c75a17"
      },
      "id": "pV3TlhbngCMP",
      "execution_count": 24,
      "outputs": [
        {
          "output_type": "stream",
          "name": "stdout",
          "text": [
            "313/313 [==============================] - 1s 2ms/step\n",
            "classification report: \n",
            "               precision    recall  f1-score   support\n",
            "\n",
            "           0       0.60      0.44      0.51      1000\n",
            "           1       0.70      0.49      0.58      1000\n",
            "           2       0.29      0.51      0.37      1000\n",
            "           3       0.43      0.23      0.30      1000\n",
            "           4       0.44      0.36      0.40      1000\n",
            "           5       0.44      0.34      0.38      1000\n",
            "           6       0.42      0.70      0.53      1000\n",
            "           7       0.67      0.40      0.50      1000\n",
            "           8       0.60      0.62      0.61      1000\n",
            "           9       0.48      0.68      0.57      1000\n",
            "\n",
            "    accuracy                           0.48     10000\n",
            "   macro avg       0.51      0.48      0.47     10000\n",
            "weighted avg       0.51      0.48      0.47     10000\n",
            "\n"
          ]
        }
      ]
    },
    {
      "cell_type": "markdown",
      "source": [
        "## Training using CNN"
      ],
      "metadata": {
        "id": "pd80gQjAhp9y"
      },
      "id": "pd80gQjAhp9y"
    },
    {
      "cell_type": "code",
      "source": [
        "cnn = models.Sequential([\n",
        "    #cnn layer 1\n",
        "    layers.Conv2D(filters = 32, kernel_size = (3,3), activation = 'relu', input_shape =(32,32,3)),\n",
        "    layers.MaxPool2D((2,2)),\n",
        "    #layer2\n",
        "    layers.Conv2D(filters = 64, kernel_size = (3,3), activation = 'relu', input_shape =(32,32,3)),\n",
        "    layers.MaxPool2D((2,2)),\n",
        "    #dense\n",
        "    layers.Flatten(),\n",
        "    layers.Dense(64, activation= 'relu'),\n",
        "    layers.Dense(10, activation= 'relu'),\n",
        "    layers.Dense(10,activation = 'softmax')\n",
        "])"
      ],
      "metadata": {
        "id": "GQEI1eRPhvCW"
      },
      "id": "GQEI1eRPhvCW",
      "execution_count": 25,
      "outputs": []
    },
    {
      "cell_type": "code",
      "source": [
        "cnn.compile(\n",
        "    optimizer = 'adam',\n",
        "    loss = 'sparse_categorical_crossentropy',\n",
        "    metrics = ['accuracy'])\n",
        "\n",
        "# usig adam oprtimizer and scc loss function"
      ],
      "metadata": {
        "id": "iuCDZb5EjadA"
      },
      "id": "iuCDZb5EjadA",
      "execution_count": 36,
      "outputs": []
    },
    {
      "cell_type": "code",
      "source": [
        "cnn.summary()"
      ],
      "metadata": {
        "id": "IJfz0-hYVjW_"
      },
      "id": "IJfz0-hYVjW_",
      "execution_count": null,
      "outputs": []
    },
    {
      "cell_type": "code",
      "source": [
        "histroy=cnn.fit(X_train, y_train, epochs=25)"
      ],
      "metadata": {
        "id": "U_qMsrDkhkLX"
      },
      "id": "U_qMsrDkhkLX",
      "execution_count": null,
      "outputs": []
    },
    {
      "cell_type": "code",
      "source": [
        "histroy.params"
      ],
      "metadata": {
        "colab": {
          "base_uri": "https://localhost:8080/"
        },
        "id": "rPpvSzI7VjP6",
        "outputId": "348f8a13-1800-45db-9e90-f40d6a5dfee0"
      },
      "id": "rPpvSzI7VjP6",
      "execution_count": 42,
      "outputs": [
        {
          "output_type": "execute_result",
          "data": {
            "text/plain": [
              "{'verbose': 1, 'epochs': 25, 'steps': 1563}"
            ]
          },
          "metadata": {},
          "execution_count": 42
        }
      ]
    },
    {
      "cell_type": "code",
      "source": [
        "histroy.history.keys()"
      ],
      "metadata": {
        "colab": {
          "base_uri": "https://localhost:8080/"
        },
        "id": "vmziBWRXV4MW",
        "outputId": "0bf589b3-2afc-46f8-c302-04849fbdfd6a"
      },
      "id": "vmziBWRXV4MW",
      "execution_count": 50,
      "outputs": [
        {
          "output_type": "execute_result",
          "data": {
            "text/plain": [
              "dict_keys(['loss', 'accuracy'])"
            ]
          },
          "metadata": {},
          "execution_count": 50
        }
      ]
    },
    {
      "cell_type": "code",
      "source": [
        "cnn.evaluate(X_test,y_test)\n"
      ],
      "metadata": {
        "id": "VXDGpldJjZxv",
        "colab": {
          "base_uri": "https://localhost:8080/"
        },
        "outputId": "2f5867e8-883f-4ac6-d7f4-cdf0e99916f3"
      },
      "id": "VXDGpldJjZxv",
      "execution_count": 44,
      "outputs": [
        {
          "output_type": "stream",
          "name": "stdout",
          "text": [
            "313/313 [==============================] - 1s 3ms/step - loss: 3.8951 - accuracy: 0.6487\n"
          ]
        },
        {
          "output_type": "execute_result",
          "data": {
            "text/plain": [
              "[3.8950867652893066, 0.6486999988555908]"
            ]
          },
          "metadata": {},
          "execution_count": 44
        }
      ]
    },
    {
      "cell_type": "markdown",
      "source": [
        "## predictions"
      ],
      "metadata": {
        "id": "hSiqasSCuQHD"
      },
      "id": "hSiqasSCuQHD"
    },
    {
      "cell_type": "code",
      "source": [
        "y_pred = cnn.predict(X_test)\n"
      ],
      "metadata": {
        "colab": {
          "base_uri": "https://localhost:8080/"
        },
        "id": "vpzVQ2sZnEyw",
        "outputId": "540faf08-d4f5-4a62-8edc-d6a5160734de"
      },
      "id": "vpzVQ2sZnEyw",
      "execution_count": 70,
      "outputs": [
        {
          "output_type": "stream",
          "name": "stdout",
          "text": [
            "313/313 [==============================] - 1s 2ms/step\n"
          ]
        }
      ]
    },
    {
      "cell_type": "code",
      "source": [
        "print(y_pred[0])"
      ],
      "metadata": {
        "colab": {
          "base_uri": "https://localhost:8080/"
        },
        "id": "Sm655VyqZc57",
        "outputId": "b8dddbc8-35ec-4ae9-f88a-9dae3378c5fe"
      },
      "id": "Sm655VyqZc57",
      "execution_count": 71,
      "outputs": [
        {
          "output_type": "stream",
          "name": "stdout",
          "text": [
            "[9.7953468e-12 2.2643218e-16 3.1873035e-12 9.9999976e-01 2.7936438e-16\n",
            " 6.3691874e-09 1.5028544e-10 1.6143156e-17 3.6124652e-09 1.9396991e-07]\n"
          ]
        }
      ]
    },
    {
      "cell_type": "code",
      "source": [
        "print(y_pred[1])"
      ],
      "metadata": {
        "colab": {
          "base_uri": "https://localhost:8080/"
        },
        "id": "oUE0qlHeYCJM",
        "outputId": "4c7a3443-f381-4ce9-86fa-3bc6a3346138"
      },
      "id": "oUE0qlHeYCJM",
      "execution_count": 68,
      "outputs": [
        {
          "output_type": "stream",
          "name": "stdout",
          "text": [
            "[3.9856216e-17 1.6509045e-12 1.3219062e-24 1.0814426e-24 0.0000000e+00\n",
            " 0.0000000e+00 1.7401904e-35 0.0000000e+00 1.0000000e+00 1.2655556e-16]\n"
          ]
        }
      ]
    },
    {
      "cell_type": "code",
      "source": [
        "y_classes = [np.argmax(element) for element in y_pred]\n",
        "y_classes[:5]"
      ],
      "metadata": {
        "colab": {
          "base_uri": "https://localhost:8080/"
        },
        "id": "caSaGtyLnJvP",
        "outputId": "4dc32286-3746-42ef-d759-3bdca3cb209f"
      },
      "id": "caSaGtyLnJvP",
      "execution_count": 72,
      "outputs": [
        {
          "output_type": "execute_result",
          "data": {
            "text/plain": [
              "[3, 8, 9, 2, 6]"
            ]
          },
          "metadata": {},
          "execution_count": 72
        }
      ]
    },
    {
      "cell_type": "code",
      "source": [
        "y_test = y_test.reshape(-1)\n",
        "y_test[:5]"
      ],
      "metadata": {
        "colab": {
          "base_uri": "https://localhost:8080/"
        },
        "id": "xRadO4bZnU_F",
        "outputId": "ec0959af-1ca8-4e6f-99da-5444105628d1"
      },
      "id": "xRadO4bZnU_F",
      "execution_count": 62,
      "outputs": [
        {
          "output_type": "execute_result",
          "data": {
            "text/plain": [
              "array([3, 8, 8, 0, 6], dtype=uint8)"
            ]
          },
          "metadata": {},
          "execution_count": 62
        }
      ]
    }
  ],
  "metadata": {
    "kernelspec": {
      "display_name": "Python 3 (ipykernel)",
      "language": "python",
      "name": "python3"
    },
    "language_info": {
      "codemirror_mode": {
        "name": "ipython",
        "version": 3
      },
      "file_extension": ".py",
      "mimetype": "text/x-python",
      "name": "python",
      "nbconvert_exporter": "python",
      "pygments_lexer": "ipython3",
      "version": "3.9.13"
    },
    "colab": {
      "provenance": []
    },
    "accelerator": "GPU",
    "gpuClass": "standard"
  },
  "nbformat": 4,
  "nbformat_minor": 5
}