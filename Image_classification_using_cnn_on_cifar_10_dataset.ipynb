{
  "cells": [
    {
      "cell_type": "markdown",
      "source": [
        "https://github.com/codebasics/deep-learning-keras-tf-tutorial/blob/master/16_cnn_cifar10_small_image_classification/cnn_cifar10_dataset.ipynb\n",
        "\n",
        "https://www.cs.toronto.edu/~kriz/cifar.html"
      ],
      "metadata": {
        "id": "wClyQIagSnOJ"
      },
      "id": "wClyQIagSnOJ"
    },
    {
      "cell_type": "markdown",
      "id": "5b19c454",
      "metadata": {
        "id": "5b19c454"
      },
      "source": [
        "# Object detection using CNN "
      ]
    },
    {
      "cell_type": "markdown",
      "id": "cbf97d42",
      "metadata": {
        "id": "cbf97d42"
      },
      "source": [
        "#### Problem Statement \n",
        "Indian government has decided to enhance the security in the border areas of China; hence we need to make a model that can detect an object by looking at the image captured by unmanned drone, you will be given a corpus of images that you will use to train the model Current project will include detection of the following 'airplane', 'automobile', 'bird', 'cat', 'deer’,’ dog', 'frog', 'horse', 'ship', 'truck’.\n",
        "\n",
        "#### Expected Outcome\n",
        "Create a model that can detect a given object The various objects are as follows 'airplane', 'automobile', 'bird', 'cat', 'deer’,’ dog', 'frog', 'horse', 'ship', 'truck’.\n"
      ]
    },
    {
      "cell_type": "markdown",
      "source": [
        "## Importing libraries and loading the dataset"
      ],
      "metadata": {
        "id": "kNsJVhikYx1V"
      },
      "id": "kNsJVhikYx1V"
    },
    {
      "cell_type": "code",
      "execution_count": null,
      "id": "68f980eb",
      "metadata": {
        "id": "68f980eb"
      },
      "outputs": [],
      "source": [
        "import tensorflow as tf\n",
        "from tensorflow.keras import datasets, layers ,models\n",
        "import matplotlib.pyplot as plt\n",
        "import numpy as np"
      ]
    },
    {
      "cell_type": "code",
      "source": [
        "(X_train, y_train),(X_test, y_test) = datasets.cifar10.load_data()\n",
        "X_train.shape"
      ],
      "metadata": {
        "colab": {
          "base_uri": "https://localhost:8080/"
        },
        "id": "GaAXe3aXUVOu",
        "outputId": "5bc72ee8-05fe-4192-9e6e-6b45176e1cdd"
      },
      "id": "GaAXe3aXUVOu",
      "execution_count": null,
      "outputs": [
        {
          "output_type": "stream",
          "name": "stdout",
          "text": [
            "Downloading data from https://www.cs.toronto.edu/~kriz/cifar-10-python.tar.gz\n",
            "170498071/170498071 [==============================] - 7s 0us/step\n"
          ]
        },
        {
          "output_type": "execute_result",
          "data": {
            "text/plain": [
              "(50000, 32, 32, 3)"
            ]
          },
          "metadata": {},
          "execution_count": 2
        }
      ]
    },
    {
      "cell_type": "code",
      "source": [
        "X_test.shape"
      ],
      "metadata": {
        "colab": {
          "base_uri": "https://localhost:8080/"
        },
        "id": "hi6HAk6hUeAL",
        "outputId": "3d64980c-9eb3-466c-ca46-5349e03b6190"
      },
      "id": "hi6HAk6hUeAL",
      "execution_count": null,
      "outputs": [
        {
          "output_type": "execute_result",
          "data": {
            "text/plain": [
              "(10000, 32, 32, 3)"
            ]
          },
          "metadata": {},
          "execution_count": 3
        }
      ]
    },
    {
      "cell_type": "code",
      "source": [
        "y_train[:5]"
      ],
      "metadata": {
        "colab": {
          "base_uri": "https://localhost:8080/"
        },
        "id": "yoP8Sq6bXr_z",
        "outputId": "579cbdd2-bc14-459e-8df2-52d0bdc4aab1"
      },
      "id": "yoP8Sq6bXr_z",
      "execution_count": null,
      "outputs": [
        {
          "output_type": "execute_result",
          "data": {
            "text/plain": [
              "array([[6],\n",
              "       [9],\n",
              "       [9],\n",
              "       [4],\n",
              "       [1]], dtype=uint8)"
            ]
          },
          "metadata": {},
          "execution_count": 4
        }
      ]
    },
    {
      "cell_type": "code",
      "source": [
        "y_train = y_train.reshape(-1)\n",
        "y_train[:5]"
      ],
      "metadata": {
        "colab": {
          "base_uri": "https://localhost:8080/"
        },
        "id": "AEMwIWQDXuzx",
        "outputId": "e9cc0a5b-a88d-4a8f-e53a-212f5f5bb541"
      },
      "id": "AEMwIWQDXuzx",
      "execution_count": null,
      "outputs": [
        {
          "output_type": "execute_result",
          "data": {
            "text/plain": [
              "array([6, 9, 9, 4, 1], dtype=uint8)"
            ]
          },
          "metadata": {},
          "execution_count": 5
        }
      ]
    },
    {
      "cell_type": "code",
      "source": [
        "classes = ['airplane','automobile','bird','cat','deer','dog','frog','horse','ship','truck']"
      ],
      "metadata": {
        "id": "Qhn31zdeW2yi"
      },
      "id": "Qhn31zdeW2yi",
      "execution_count": null,
      "outputs": []
    },
    {
      "cell_type": "code",
      "source": [
        "classes[0]"
      ],
      "metadata": {
        "colab": {
          "base_uri": "https://localhost:8080/",
          "height": 35
        },
        "id": "V0oSacqbXQOZ",
        "outputId": "3079631e-af5d-4448-a885-a84f03cab092"
      },
      "id": "V0oSacqbXQOZ",
      "execution_count": null,
      "outputs": [
        {
          "output_type": "execute_result",
          "data": {
            "text/plain": [
              "'airplane'"
            ],
            "application/vnd.google.colaboratory.intrinsic+json": {
              "type": "string"
            }
          },
          "metadata": {},
          "execution_count": 7
        }
      ]
    },
    {
      "cell_type": "code",
      "source": [
        "def plot_sample (X,y,index):\n",
        "  plt.figure(figsize = (20,2))\n",
        "  plt.imshow(X[index])\n",
        "  plt.xlabel(classes[y[index]])"
      ],
      "metadata": {
        "id": "DfQMNmUYU7Cm"
      },
      "id": "DfQMNmUYU7Cm",
      "execution_count": null,
      "outputs": []
    },
    {
      "cell_type": "code",
      "source": [
        "plot_sample(X_train,y_train,0)"
      ],
      "metadata": {
        "id": "KFQdNMPPYYKu",
        "colab": {
          "base_uri": "https://localhost:8080/",
          "height": 173
        },
        "outputId": "ec757497-e784-476a-a570-5f002bc5ece0"
      },
      "id": "KFQdNMPPYYKu",
      "execution_count": null,
      "outputs": [
        {
          "output_type": "display_data",
          "data": {
            "text/plain": [
              "<Figure size 1440x144 with 1 Axes>"
            ],
            "image/png": "[encoded data removed]"
          },
          "metadata": {
            "needs_background": "light"
          }
        }
      ]
    },
    {
      "cell_type": "code",
      "source": [
        "plot_sample(X_train,y_train,1)\n"
      ],
      "metadata": {
        "id": "Jn1moscNYq-H",
        "colab": {
          "base_uri": "https://localhost:8080/",
          "height": 173
        },
        "outputId": "6174a387-3c4d-452b-bcb0-cd2c9f896a7a"
      },
      "id": "Jn1moscNYq-H",
      "execution_count": null,
      "outputs": [
        {
          "output_type": "display_data",
          "data": {
            "text/plain": [
              "<Figure size 1440x144 with 1 Axes>"
            ],
            "image/png": "[encoded data removed]"
          },
          "metadata": {
            "needs_background": "light"
          }
        }
      ]
    },
    {
      "cell_type": "code",
      "source": [
        "plot_sample(X_train,y_train,3)"
      ],
      "metadata": {
        "id": "V2rg3oJZYmEn",
        "colab": {
          "base_uri": "https://localhost:8080/",
          "height": 173
        },
        "outputId": "22d29f13-d350-4f39-f8f8-7f12e239feee"
      },
      "id": "V2rg3oJZYmEn",
      "execution_count": null,
      "outputs": [
        {
          "output_type": "display_data",
          "data": {
            "text/plain": [
              "<Figure size 1440x144 with 1 Axes>"
            ],
            "image/png": "[encoded data removed]"
          },
          "metadata": {
            "needs_background": "light"
          }
        }
      ]
    },
    {
      "cell_type": "markdown",
      "source": [
        "## Data Preprocessing"
      ],
      "metadata": {
        "id": "DclBKPpWZzfZ"
      },
      "id": "DclBKPpWZzfZ"
    },
    {
      "cell_type": "code",
      "source": [
        "# Data Normalization\n",
        "X_train =X_train/255\n",
        "X_test = X_test/255"
      ],
      "metadata": {
        "id": "5SD8YqIBZkrn"
      },
      "id": "5SD8YqIBZkrn",
      "execution_count": null,
      "outputs": []
    },
    {
      "cell_type": "markdown",
      "source": [
        "## Training using simple ann"
      ],
      "metadata": {
        "id": "SaZEf2HwaSzu"
      },
      "id": "SaZEf2HwaSzu"
    },
    {
      "cell_type": "code",
      "source": [
        "ann = models.Sequential([\n",
        "    layers.Flatten(input_shape =(32,32,3)),\n",
        "    layers.Dense(3000, activation= 'relu'),\n",
        "    layers.Dense(1000, activation= 'relu'),\n",
        "    layers.Dense(10,activation = 'softmax')\n",
        "])\n",
        "\n",
        "ann.compile(optimizer = 'sgd',\n",
        "            loss = 'sparse_categorical_crossentropy',\n",
        "            metrics = ['accuracy'])\n",
        "\n",
        "ann.fit(X_train, y_train, epochs = 5)"
      ],
      "metadata": {
        "id": "8SmiD58saVdX",
        "colab": {
          "base_uri": "https://localhost:8080/"
        },
        "outputId": "1eb99ea3-d733-4fd4-a8df-6d6f8e012dc6"
      },
      "id": "8SmiD58saVdX",
      "execution_count": null,
      "outputs": [
        {
          "output_type": "stream",
          "name": "stdout",
          "text": [
            "Epoch 1/5\n",
            "1563/1563 [==============================] - 8s 4ms/step - loss: 1.8139 - accuracy: 0.3516\n",
            "Epoch 2/5\n",
            "1563/1563 [==============================] - 6s 4ms/step - loss: 1.6224 - accuracy: 0.4253\n",
            "Epoch 3/5\n",
            "1563/1563 [==============================] - 6s 4ms/step - loss: 1.5405 - accuracy: 0.4560\n",
            "Epoch 4/5\n",
            "1563/1563 [==============================] - 6s 4ms/step - loss: 1.4823 - accuracy: 0.4769\n",
            "Epoch 5/5\n",
            "1563/1563 [==============================] - 6s 4ms/step - loss: 1.4318 - accuracy: 0.4972\n"
          ]
        },
        {
          "output_type": "execute_result",
          "data": {
            "text/plain": [
              "<keras.callbacks.History at 0x7f58225dbd90>"
            ]
          },
          "metadata": {},
          "execution_count": 13
        }
      ]
    },
    {
      "cell_type": "code",
      "source": [
        "ann.evaluate(X_test,y_test)"
      ],
      "metadata": {
        "colab": {
          "base_uri": "https://localhost:8080/"
        },
        "id": "cd9FoCQNfofe",
        "outputId": "bee9c95d-a528-4f77-d888-7c019bdaf442"
      },
      "id": "cd9FoCQNfofe",
      "execution_count": null,
      "outputs": [
        {
          "output_type": "stream",
          "name": "stdout",
          "text": [
            "313/313 [==============================] - 1s 3ms/step - loss: 1.4651 - accuracy: 0.4878\n"
          ]
        },
        {
          "output_type": "execute_result",
          "data": {
            "text/plain": [
              "[1.4650973081588745, 0.4878000020980835]"
            ]
          },
          "metadata": {},
          "execution_count": 14
        }
      ]
    },
    {
      "cell_type": "markdown",
      "source": [
        "accuracy on training sample = 49.58%\n",
        "\n",
        "accuracy on test sample = 45.78%"
      ],
      "metadata": {
        "id": "j7xFr7Rtf39Z"
      },
      "id": "j7xFr7Rtf39Z"
    },
    {
      "cell_type": "code",
      "source": [
        "# Classification Report \n",
        "from sklearn.metrics import confusion_matrix, classification_report\n",
        "import numpy as np\n",
        "y_pred = ann.predict(X_test)\n",
        "y_pred_classes = [np.argmax(element) for element in y_pred ]\n",
        "\n",
        "print(\"classification report: \\n\", classification_report(y_test, y_pred_classes))"
      ],
      "metadata": {
        "colab": {
          "base_uri": "https://localhost:8080/"
        },
        "id": "pV3TlhbngCMP",
        "outputId": "4d686dd9-4dbc-43ec-febd-11a6af468523"
      },
      "id": "pV3TlhbngCMP",
      "execution_count": null,
      "outputs": [
        {
          "output_type": "stream",
          "name": "stdout",
          "text": [
            "313/313 [==============================] - 1s 2ms/step\n",
            "classification report: \n",
            "               precision    recall  f1-score   support\n",
            "\n",
            "           0       0.55      0.69      0.62      1000\n",
            "           1       0.73      0.58      0.65      1000\n",
            "           2       0.52      0.35      0.42      1000\n",
            "           3       0.31      0.64      0.42      1000\n",
            "           4       0.41      0.64      0.50      1000\n",
            "           5       0.55      0.30      0.39      1000\n",
            "           6       0.78      0.39      0.52      1000\n",
            "           7       0.71      0.52      0.60      1000\n",
            "           8       0.58      0.75      0.65      1000\n",
            "           9       0.75      0.42      0.54      1000\n",
            "\n",
            "    accuracy                           0.53     10000\n",
            "   macro avg       0.59      0.53      0.53     10000\n",
            "weighted avg       0.59      0.53      0.53     10000\n",
            "\n"
          ]
        }
      ]
    },
    {
      "cell_type": "markdown",
      "source": [
        "## Training using CNN"
      ],
      "metadata": {
        "id": "pd80gQjAhp9y"
      },
      "id": "pd80gQjAhp9y"
    },
    {
      "cell_type": "code",
      "source": [
        "cnn = models.Sequential([\n",
        "    #cnn layer 1\n",
        "    layers.Conv2D(filters = 32, kernel_size = (3,3), activation = 'relu', input_shape =(32,32,3)),\n",
        "    layers.MaxPool2D((2,2)),\n",
        "    #layer2\n",
        "    layers.Conv2D(filters = 64, kernel_size = (3,3), activation = 'relu', input_shape =(32,32,3)),\n",
        "    layers.MaxPool2D((2,2)),\n",
        "    #dense\n",
        "    layers.Flatten(),\n",
        "    layers.Dense(64, activation= 'relu'),\n",
        "    layers.Dense(10, activation= 'relu'),\n",
        "    layers.Dense(10,activation = 'softmax')\n",
        "])"
      ],
      "metadata": {
        "id": "GQEI1eRPhvCW"
      },
      "id": "GQEI1eRPhvCW",
      "execution_count": null,
      "outputs": []
    },
    {
      "cell_type": "code",
      "source": [
        "cnn.compile(\n",
        "    optimizer = 'adam',\n",
        "    loss = 'sparse_categorical_crossentropy',\n",
        "    metrics = ['accuracy'])"
      ],
      "metadata": {
        "id": "iuCDZb5EjadA"
      },
      "id": "iuCDZb5EjadA",
      "execution_count": null,
      "outputs": []
    },
    {
      "cell_type": "code",
      "source": [
        "cnn.summary()"
      ],
      "metadata": {
        "id": "IJfz0-hYVjW_"
      },
      "id": "IJfz0-hYVjW_",
      "execution_count": null,
      "outputs": []
    },
    {
      "cell_type": "code",
      "source": [
        "cnn.fit(X_train, y_train, epochs=10)"
      ],
      "metadata": {
        "id": "U_qMsrDkhkLX",
        "colab": {
          "base_uri": "https://localhost:8080/"
        },
        "outputId": "6e38d81f-fa16-4415-b16a-33efad30b21c"
      },
      "id": "U_qMsrDkhkLX",
      "execution_count": null,
      "outputs": [
        {
          "output_type": "stream",
          "name": "stdout",
          "text": [
            "Epoch 1/10\n",
            "1563/1563 [==============================] - 8s 5ms/step - loss: 0.6552 - accuracy: 0.7696\n",
            "Epoch 2/10\n",
            "1563/1563 [==============================] - 6s 4ms/step - loss: 0.6303 - accuracy: 0.7763\n",
            "Epoch 3/10\n",
            "1563/1563 [==============================] - 6s 4ms/step - loss: 0.5947 - accuracy: 0.7918\n",
            "Epoch 4/10\n",
            "1563/1563 [==============================] - 6s 4ms/step - loss: 0.5718 - accuracy: 0.7985\n",
            "Epoch 5/10\n",
            "1563/1563 [==============================] - 6s 4ms/step - loss: 0.5463 - accuracy: 0.8059\n",
            "Epoch 6/10\n",
            "1563/1563 [==============================] - 6s 4ms/step - loss: 0.5210 - accuracy: 0.8149\n",
            "Epoch 7/10\n",
            "1563/1563 [==============================] - 6s 4ms/step - loss: 0.4979 - accuracy: 0.8240\n",
            "Epoch 8/10\n",
            "1563/1563 [==============================] - 6s 4ms/step - loss: 0.4777 - accuracy: 0.8314\n",
            "Epoch 9/10\n",
            "1563/1563 [==============================] - 6s 4ms/step - loss: 0.4584 - accuracy: 0.8374\n",
            "Epoch 10/10\n",
            "1563/1563 [==============================] - 6s 4ms/step - loss: 0.4332 - accuracy: 0.8463\n"
          ]
        },
        {
          "output_type": "execute_result",
          "data": {
            "text/plain": [
              "<keras.callbacks.History at 0x7f57b84237c0>"
            ]
          },
          "metadata": {},
          "execution_count": 40
        }
      ]
    },
    {
      "cell_type": "code",
      "source": [
        "cnn.evaluate(X_test,y_test)\n"
      ],
      "metadata": {
        "id": "VXDGpldJjZxv",
        "colab": {
          "base_uri": "https://localhost:8080/"
        },
        "outputId": "59a261ba-0d45-4567-cee2-8a2da349823d"
      },
      "id": "VXDGpldJjZxv",
      "execution_count": null,
      "outputs": [
        {
          "output_type": "stream",
          "name": "stdout",
          "text": [
            "313/313 [==============================] - 1s 3ms/step - loss: 0.9659 - accuracy: 0.6792\n"
          ]
        },
        {
          "output_type": "execute_result",
          "data": {
            "text/plain": [
              "[0.9658666849136353, 0.6791999936103821]"
            ]
          },
          "metadata": {},
          "execution_count": 19
        }
      ]
    },
    {
      "cell_type": "markdown",
      "source": [
        "## Transfer Learning "
      ],
      "metadata": {
        "id": "Mu7ZVq4PuFhz"
      },
      "id": "Mu7ZVq4PuFhz"
    },
    {
      "cell_type": "code",
      "source": [
        "from tensorflow.keras.applications import VGG16\n",
        "base_1 = VGG16(include_top= False,weights ='imagenet', input_shape=(32,32,3))"
      ],
      "metadata": {
        "id": "PnogOCwtlqj5",
        "colab": {
          "base_uri": "https://localhost:8080/"
        },
        "outputId": "ce0a15f1-9829-478d-f162-2f158bde8b31"
      },
      "id": "PnogOCwtlqj5",
      "execution_count": null,
      "outputs": [
        {
          "output_type": "stream",
          "name": "stdout",
          "text": [
            "Downloading data from https://storage.googleapis.com/tensorflow/keras-applications/vgg16/vgg16_weights_tf_dim_ordering_tf_kernels_notop.h5\n",
            "58889256/58889256 [==============================] - 2s 0us/step\n"
          ]
        }
      ]
    },
    {
      "cell_type": "code",
      "source": [
        "base_1"
      ],
      "metadata": {
        "colab": {
          "base_uri": "https://localhost:8080/"
        },
        "id": "IRnIIlP8q9cZ",
        "outputId": "4630b927-9a1b-48d7-a667-738adfc3ad6d"
      },
      "id": "IRnIIlP8q9cZ",
      "execution_count": null,
      "outputs": [
        {
          "output_type": "execute_result",
          "data": {
            "text/plain": [
              "<keras.engine.functional.Functional at 0x7f57584f8b80>"
            ]
          },
          "metadata": {},
          "execution_count": 62
        }
      ]
    },
    {
      "cell_type": "code",
      "source": [
        "from tensorflow import keras\n",
        "from tensorflow.keras import layers\n",
        "\n",
        "model = keras.Sequential([\n",
        "    base_1,\n",
        "    layers.Flatten(),\n",
        "    # YOUR CODE HERE. Attach a head of dense layers.\n",
        "    layers.Dense(64,activation ='relu'),\n",
        "    layers.Dense(10,activation ='relu'),\n",
        "    layers.Dense(10,activation ='softmax')\n",
        "])\n",
        "\n",
        "model.compile(\n",
        "    optimizer = 'adam',\n",
        "    loss = 'sparse_categorical_crossentropy',\n",
        "    metrics = ['accuracy'])"
      ],
      "metadata": {
        "id": "2zBq70Tul3cf"
      },
      "id": "2zBq70Tul3cf",
      "execution_count": null,
      "outputs": []
    },
    {
      "cell_type": "code",
      "source": [
        "model.summary()"
      ],
      "metadata": {
        "colab": {
          "base_uri": "https://localhost:8080/"
        },
        "id": "fKL_1y9bnQpb",
        "outputId": "84ed556a-f8d9-48bb-c8c6-1799d2d567e9"
      },
      "id": "fKL_1y9bnQpb",
      "execution_count": null,
      "outputs": [
        {
          "output_type": "stream",
          "name": "stdout",
          "text": [
            "Model: \"sequential_10\"\n",
            "_________________________________________________________________\n",
            " Layer (type)                Output Shape              Param #   \n",
            "=================================================================\n",
            " vgg16 (Functional)          (None, 1, 1, 512)         14714688  \n",
            "                                                                 \n",
            " flatten_10 (Flatten)        (None, 512)               0         \n",
            "                                                                 \n",
            " dense_23 (Dense)            (None, 64)                32832     \n",
            "                                                                 \n",
            " dense_24 (Dense)            (None, 10)                650       \n",
            "                                                                 \n",
            " dense_25 (Dense)            (None, 10)                110       \n",
            "                                                                 \n",
            "=================================================================\n",
            "Total params: 14,748,280\n",
            "Trainable params: 14,748,280\n",
            "Non-trainable params: 0\n",
            "_________________________________________________________________\n"
          ]
        }
      ]
    },
    {
      "cell_type": "code",
      "source": [
        "model.fit(X_train, y_train, epochs=10)"
      ],
      "metadata": {
        "colab": {
          "base_uri": "https://localhost:8080/"
        },
        "id": "v3HXGnhLl_O8",
        "outputId": "1a9aa530-3212-4c37-eba0-fadccb6b88c1"
      },
      "id": "v3HXGnhLl_O8",
      "execution_count": null,
      "outputs": [
        {
          "output_type": "stream",
          "name": "stdout",
          "text": [
            "Epoch 1/10\n",
            "1563/1563 [==============================] - 44s 28ms/step - loss: nan - accuracy: 0.1000\n",
            "Epoch 2/10\n",
            "1563/1563 [==============================] - 43s 28ms/step - loss: nan - accuracy: 0.1000\n",
            "Epoch 3/10\n",
            "1563/1563 [==============================] - 43s 28ms/step - loss: nan - accuracy: 0.1000\n",
            "Epoch 4/10\n",
            "1563/1563 [==============================] - 44s 28ms/step - loss: nan - accuracy: 0.1000\n",
            "Epoch 5/10\n",
            "1563/1563 [==============================] - 43s 28ms/step - loss: nan - accuracy: 0.1000\n",
            "Epoch 6/10\n",
            "1563/1563 [==============================] - 43s 28ms/step - loss: nan - accuracy: 0.1000\n",
            "Epoch 7/10\n",
            "1563/1563 [==============================] - 43s 28ms/step - loss: nan - accuracy: 0.1000\n",
            "Epoch 8/10\n",
            "1563/1563 [==============================] - 43s 28ms/step - loss: nan - accuracy: 0.1000\n",
            "Epoch 9/10\n",
            "1563/1563 [==============================] - 44s 28ms/step - loss: nan - accuracy: 0.1000\n",
            "Epoch 10/10\n",
            "1563/1563 [==============================] - 44s 28ms/step - loss: nan - accuracy: 0.1000\n"
          ]
        },
        {
          "output_type": "execute_result",
          "data": {
            "text/plain": [
              "<keras.callbacks.History at 0x7f575830fd30>"
            ]
          },
          "metadata": {},
          "execution_count": 71
        }
      ]
    },
    {
      "cell_type": "code",
      "source": [],
      "metadata": {
        "id": "e2bycng20r6J"
      },
      "id": "e2bycng20r6J",
      "execution_count": null,
      "outputs": []
    },
    {
      "cell_type": "code",
      "source": [
        "X_train.shape"
      ],
      "metadata": {
        "colab": {
          "base_uri": "https://localhost:8080/"
        },
        "id": "B9Qj5jT1qSyA",
        "outputId": "31f8fa35-0281-40d5-a788-ec3380963982"
      },
      "id": "B9Qj5jT1qSyA",
      "execution_count": null,
      "outputs": [
        {
          "output_type": "execute_result",
          "data": {
            "text/plain": [
              "(50000, 32, 32, 3)"
            ]
          },
          "metadata": {},
          "execution_count": 38
        }
      ]
    },
    {
      "cell_type": "markdown",
      "source": [
        "## predictions"
      ],
      "metadata": {
        "id": "hSiqasSCuQHD"
      },
      "id": "hSiqasSCuQHD"
    },
    {
      "cell_type": "code",
      "source": [
        "y_pred = cnn.predict(X_test)\n",
        "y_pred[:5]"
      ],
      "metadata": {
        "colab": {
          "base_uri": "https://localhost:8080/"
        },
        "id": "vpzVQ2sZnEyw",
        "outputId": "016e3c14-a30e-412d-ad9e-01e14a955821"
      },
      "id": "vpzVQ2sZnEyw",
      "execution_count": null,
      "outputs": [
        {
          "output_type": "stream",
          "name": "stdout",
          "text": [
            "313/313 [==============================] - 1s 2ms/step\n"
          ]
        },
        {
          "output_type": "execute_result",
          "data": {
            "text/plain": [
              "array([[2.69816490e-04, 1.07119810e-02, 4.13882197e-04, 8.54557037e-01,\n",
              "        3.39259888e-04, 3.27389352e-02, 9.18434486e-02, 1.46482648e-06,\n",
              "        8.19298439e-03, 9.31134564e-04],\n",
              "       [3.86742614e-02, 4.02788430e-01, 8.49983990e-05, 8.27822514e-05,\n",
              "        3.79690726e-04, 4.73462569e-06, 9.90410190e-05, 2.11817883e-06,\n",
              "        5.27635276e-01, 3.02487146e-02],\n",
              "       [2.02123731e-01, 1.03906401e-01, 2.86190361e-02, 7.14543983e-02,\n",
              "        4.28404398e-02, 6.66620862e-03, 6.69997185e-03, 1.53371869e-02,\n",
              "        3.65071267e-01, 1.57281399e-01],\n",
              "       [9.15820301e-01, 3.38913966e-03, 2.68942304e-03, 7.28342740e-04,\n",
              "        5.13093174e-02, 7.85446828e-05, 3.44070053e-04, 5.79314597e-04,\n",
              "        2.44907532e-02, 5.70712087e-04],\n",
              "       [3.76762053e-08, 2.53961880e-05, 2.39381450e-03, 6.56529143e-03,\n",
              "        1.39712632e-01, 3.29134928e-04, 8.50964069e-01, 8.33143804e-06,\n",
              "        1.10100906e-07, 1.11079157e-06]], dtype=float32)"
            ]
          },
          "metadata": {},
          "execution_count": 20
        }
      ]
    },
    {
      "cell_type": "code",
      "source": [
        "y_classes = [np.argmax(element) for element in y_pred]\n",
        "y_classes[:5]"
      ],
      "metadata": {
        "colab": {
          "base_uri": "https://localhost:8080/"
        },
        "id": "caSaGtyLnJvP",
        "outputId": "b8b988ae-4aaf-4c99-fce2-dd94eaf94265"
      },
      "id": "caSaGtyLnJvP",
      "execution_count": null,
      "outputs": [
        {
          "output_type": "execute_result",
          "data": {
            "text/plain": [
              "[3, 8, 8, 0, 6]"
            ]
          },
          "metadata": {},
          "execution_count": 21
        }
      ]
    },
    {
      "cell_type": "code",
      "source": [
        "y_test = y_test.reshape(-1)\n",
        "y_test[:5]"
      ],
      "metadata": {
        "colab": {
          "base_uri": "https://localhost:8080/"
        },
        "id": "xRadO4bZnU_F",
        "outputId": "5c9e21eb-ef77-4028-a460-2c933f1660fd"
      },
      "id": "xRadO4bZnU_F",
      "execution_count": null,
      "outputs": [
        {
          "output_type": "execute_result",
          "data": {
            "text/plain": [
              "array([3, 8, 8, 0, 6], dtype=uint8)"
            ]
          },
          "metadata": {},
          "execution_count": 22
        }
      ]
    },
    {
      "cell_type": "code",
      "source": [
        "plot_sample(X_test, y_test,6)"
      ],
      "metadata": {
        "colab": {
          "base_uri": "https://localhost:8080/",
          "height": 173
        },
        "id": "MY1_xHxtncWk",
        "outputId": "5873d6f8-488d-436c-ef2d-f870bcbaa8eb"
      },
      "id": "MY1_xHxtncWk",
      "execution_count": null,
      "outputs": [
        {
          "output_type": "display_data",
          "data": {
            "text/plain": [
              "<Figure size 1440x144 with 1 Axes>"
            ],
            "image/png": "[encoded data removed]"
          },
          "metadata": {
            "needs_background": "light"
          }
        }
      ]
    }
  ],
  "metadata": {
    "kernelspec": {
      "display_name": "Python 3 (ipykernel)",
      "language": "python",
      "name": "python3"
    },
    "language_info": {
      "codemirror_mode": {
        "name": "ipython",
        "version": 3
      },
      "file_extension": ".py",
      "mimetype": "text/x-python",
      "name": "python",
      "nbconvert_exporter": "python",
      "pygments_lexer": "ipython3",
      "version": "3.9.13"
    },
    "colab": {
      "provenance": [],
      "collapsed_sections": [
        "DclBKPpWZzfZ",
        "SaZEf2HwaSzu"
      ]
    },
    "accelerator": "GPU",
    "gpuClass": "standard"
  },
  "nbformat": 4,
  "nbformat_minor": 5
}